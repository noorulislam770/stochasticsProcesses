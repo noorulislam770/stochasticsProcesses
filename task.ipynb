{
 "cells": [
  {
   "cell_type": "code",
   "execution_count": 23,
   "metadata": {},
   "outputs": [],
   "source": [
    "import numpy as np\n",
    "import pandas as pd \n",
    "import random\n",
    "import matplotlib.pyplot as plt \n",
    "import matplotlib.patches as mpatches \n",
    "from matplotlib.collections import PatchCollection\n",
    "\n"
   ]
  },
  {
   "cell_type": "code",
   "execution_count": 24,
   "metadata": {},
   "outputs": [],
   "source": [
    "class Node():\n",
    "    \n",
    "    def __init__(\n",
    "        self, center, radius, label, \n",
    "        facecolor='#2693de', edgecolor='#e6e6e6',\n",
    "        ring_facecolor='#a3a3a3', ring_edgecolor='#a3a3a3'\n",
    "        ):\n",
    "        \"\"\"\n",
    "        Initializes a Markov Chain Node(for drawing purposes)\n",
    "        Inputs:\n",
    "            - center : Node (x,y) center\n",
    "            - radius : Node radius\n",
    "            - label  : Node label\n",
    "        \"\"\"\n",
    "        self.center = center\n",
    "        self.radius = radius\n",
    "        self.label  = label\n",
    "\n",
    "        # For convinience: x, y coordinates of the center\n",
    "        self.x = center[0]\n",
    "        self.y = center[1]\n",
    "        \n",
    "        # Drawing config\n",
    "        self.node_facecolor = facecolor\n",
    "        self.node_edgecolor = edgecolor\n",
    "        \n",
    "        self.ring_facecolor = ring_facecolor\n",
    "        self.ring_edgecolor = ring_edgecolor\n",
    "        self.ring_width = 0.03  \n",
    "        \n",
    "        self.text_args = {\n",
    "            'ha': 'center', \n",
    "            'va': 'center', \n",
    "            'fontsize': 16\n",
    "        }\n",
    "    \n",
    "    \n",
    "    def add_circle(self, ax):\n",
    "        \"\"\"\n",
    "        Add the annotated circle for the node\n",
    "        \"\"\"\n",
    "        circle = mpatches.Circle(self.center, self.radius)\n",
    "        p = PatchCollection(\n",
    "            [circle], \n",
    "            edgecolor = self.node_edgecolor, \n",
    "            facecolor = self.node_facecolor\n",
    "        )\n",
    "        ax.add_collection(p)\n",
    "        ax.annotate(\n",
    "            self.label, \n",
    "            xy = self.center, \n",
    "            color = '#ffffff', \n",
    "            **self.text_args\n",
    "        )\n",
    "        \n",
    "        \n",
    "    def add_self_loop(self, ax, prob=None, direction='up'):\n",
    "        \"\"\"\n",
    "        Draws a self loop\n",
    "        \"\"\"\n",
    "        if direction == 'up':\n",
    "            start = -30\n",
    "            angle = 180\n",
    "            ring_x = self.x\n",
    "            ring_y = self.y + self.radius\n",
    "            prob_y = self.y + 1.3*self.radius\n",
    "            x_cent = ring_x - self.radius + (self.ring_width/2)\n",
    "            y_cent = ring_y - 0.15\n",
    "        else:\n",
    "            start = -210\n",
    "            angle = 0\n",
    "            ring_x = self.x\n",
    "            ring_y = self.y - self.radius\n",
    "            prob_y = self.y - 1.4*self.radius\n",
    "            x_cent = ring_x + self.radius - (self.ring_width/2)\n",
    "            y_cent = ring_y + 0.15\n",
    "            \n",
    "        # Add the ring\n",
    "        ring = mpatches.Wedge(\n",
    "            (ring_x, ring_y), \n",
    "            self.radius, \n",
    "            start, \n",
    "            angle, \n",
    "            width = self.ring_width\n",
    "        )\n",
    "        # Add the triangle (arrow)\n",
    "        offset = 0.2\n",
    "        left   = [x_cent - offset, ring_y]\n",
    "        right  = [x_cent + offset, ring_y]\n",
    "        bottom = [(left[0]+right[0])/2., y_cent]\n",
    "        arrow  = plt.Polygon([left, right, bottom, left])\n",
    "\n",
    "        p = PatchCollection(\n",
    "            [ring, arrow], \n",
    "            edgecolor = self.ring_edgecolor, \n",
    "            facecolor = self.ring_facecolor\n",
    "        )\n",
    "        ax.add_collection(p)\n",
    "        \n",
    "        # Probability to add?\n",
    "        if prob:\n",
    "            ax.annotate(str(prob), xy=(self.x, prob_y), color='#000000', **self.text_args)\n"
   ]
  },
  {
   "cell_type": "code",
   "execution_count": 26,
   "metadata": {},
   "outputs": [],
   "source": [
    "class MarkovChain:\n",
    "\n",
    "    def __init__(self, M, labels):\n",
    "        \"\"\"\n",
    "        Initializes a Markov Chain (for drawing purposes)\n",
    "        Inputs:\n",
    "            - M         Transition Matrix\n",
    "            - labels    State Labels\n",
    "        \"\"\"\n",
    "\n",
    "        if M.shape[0] < 2:\n",
    "            raise Exception(\"There should be at least 2 states\")\n",
    "        if M.shape[0] > 4:\n",
    "            raise Exception(\"Only works with 4 states max for now\")\n",
    "        if M.shape[0] != M.shape[1]:\n",
    "            raise Exception(\"Transition matrix should be square\")\n",
    "        if M.shape[0] != len(labels):\n",
    "            raise Exception(\"There should be as many labels as states\")\n",
    "\n",
    "        self.M = M\n",
    "        self.n_states = M.shape[0]\n",
    "        self.labels = labels\n",
    "\n",
    "        # Colors\n",
    "        self.arrow_facecolor = '#a3a3a3'\n",
    "        self.arrow_edgecolor = '#a3a3a3'\n",
    "\n",
    "        self.node_facecolor = '#2693de'\n",
    "        self.node_edgecolor = '#e6e6e6'\n",
    "\n",
    "        # Drawing config\n",
    "        self.node_radius = 0.5\n",
    "        self.arrow_width = 0.03\n",
    "        self.arrow_head_width = 0.20\n",
    "        self.text_args = {\n",
    "            'ha': 'center',\n",
    "            'va': 'center',\n",
    "            'fontsize': 16\n",
    "        }\n",
    "\n",
    "        # Build the network\n",
    "        self.build_network()\n",
    "\n",
    "\n",
    "    def set_node_centers(self):\n",
    "        \"\"\"\n",
    "        Positions the node centers given the number of states\n",
    "        \"\"\"\n",
    "        # Node positions\n",
    "        self.node_centers = []\n",
    "\n",
    "        if self.n_states == 2:\n",
    "            self.figsize = (10, 4)\n",
    "            self.xlim = (-5, 5)\n",
    "            self.ylim = (-2, 2)\n",
    "            self.node_centers = [[-4,0], [4,0]]\n",
    "        elif self.n_states == 3:\n",
    "            self.figsize = (10, 6)\n",
    "            self.xlim = (-5, 5)\n",
    "            self.ylim = (-3, 3)\n",
    "            self.node_centers = [[-3,-2], [3,-2], [-3,2]]\n",
    "        elif self.n_states == 4:\n",
    "            self.figsize = (8, 8)\n",
    "            self.xlim = (-5, 5)\n",
    "            self.ylim = (-5, 5)\n",
    "            self.node_centers = [[-4,4], [4,4], [4,-4], [-4,-4]]\n",
    "\n",
    "\n",
    "    def build_network(self):\n",
    "        \"\"\"\n",
    "        Loops through the matrix, add the nodes\n",
    "        \"\"\"\n",
    "        # Position the node centers\n",
    "        self.set_node_centers()\n",
    "\n",
    "        # Set the nodes\n",
    "        self.nodes = []\n",
    "        for i in range(self.n_states):\n",
    "            node = Node(\n",
    "                self.node_centers[i],\n",
    "                self.node_radius,\n",
    "                self.labels[i]\n",
    "            )\n",
    "            self.nodes.append(node)\n",
    "\n",
    "\n",
    "    def add_arrow(self, ax, node1, node2, prob=None):\n",
    "        \"\"\"\n",
    "        Add a directed arrow between two nodes\n",
    "        \"\"\"\n",
    "        # x,y start of the arrow\n",
    "        x_start = node1.x + np.sign(node2.x-node1.x) * node1.radius\n",
    "        y_start = node1.y + np.sign(node2.y-node1.y) * node1.radius\n",
    "\n",
    "        # arrow length\n",
    "        dx = abs(node1.x - node2.x) - 2.5* node1.radius\n",
    "        dy = abs(node1.y - node2.y) - 2.5* node1.radius\n",
    "\n",
    "        # we don't want xoffset and yoffset to both be non-nul\n",
    "        yoffset = 0.4 * self.node_radius * np.sign(node2.x-node1.x)\n",
    "        if yoffset == 0:\n",
    "            xoffset = 0.4 * self.node_radius * np.sign(node2.y-node1.y)\n",
    "        else:\n",
    "            xoffset = 0\n",
    "\n",
    "        arrow = mpatches.FancyArrow(\n",
    "            x_start + xoffset,\n",
    "            y_start + yoffset,\n",
    "            dx * np.sign(node2.x-node1.x),\n",
    "            dy * np.sign(node2.y-node1.y),\n",
    "            width = self.arrow_width,\n",
    "            head_width = self.arrow_head_width\n",
    "        )\n",
    "        p = PatchCollection(\n",
    "            [arrow],\n",
    "            edgecolor = self.arrow_edgecolor,\n",
    "            facecolor = self.arrow_facecolor\n",
    "        )\n",
    "        ax.add_collection(p)\n",
    "\n",
    "        # Probability to add?\n",
    "        x_prob = x_start + xoffset + 0.2*dx*np.sign(node2.x-node1.x)\n",
    "        y_prob = y_start + yoffset + 0.2*dy*np.sign(node2.y-node1.y)\n",
    "        if prob:\n",
    "            ax.annotate(str(prob), xy=(x_prob, y_prob), color='#000000', **self.text_args)\n",
    "\n",
    "\n",
    "    def draw(self, img_path=None):\n",
    "        \"\"\"\n",
    "        Draw the Markov Chain\n",
    "        \"\"\"\n",
    "        fig, ax = plt.subplots(figsize=self.figsize)\n",
    "\n",
    "        # Set the axis limits\n",
    "        plt.xlim(self.xlim)\n",
    "        plt.ylim(self.ylim)\n",
    "\n",
    "        # Draw the nodes\n",
    "        for node in self.nodes:\n",
    "            node.add_circle(ax)\n",
    "\n",
    "        # Add the transitions\n",
    "        for i in range(self.M.shape[0]):\n",
    "            for j in range(self.M.shape[1]):\n",
    "                # self loops\n",
    "                if i == j:\n",
    "                    # Loop direction\n",
    "                    if self.nodes[i].y >= 0:\n",
    "                        self.nodes[i].add_self_loop(ax, prob = self.M[i,j], direction='up')\n",
    "                    else:\n",
    "                        self.nodes[i].add_self_loop(ax, prob = self.M[i,j], direction='down')\n",
    "                # directed arrows\n",
    "                elif self.M[i,j] > 0:\n",
    "                    self.add_arrow(ax, self.nodes[i], self.nodes[j], prob = self.M[i,j])\n",
    "\n",
    "        plt.axis('off')\n",
    "        # Save the image to disk?\n",
    "        if img_path:\n",
    "            plt.savefig(img_path)\n",
    "        plt.show()\n",
    "\n"
   ]
  },
  {
   "cell_type": "code",
   "execution_count": null,
   "metadata": {},
   "outputs": [],
   "source": [
    "\n"
   ]
  },
  {
   "cell_type": "code",
   "execution_count": null,
   "metadata": {},
   "outputs": [],
   "source": [
    "plt.rcParams[\"figure.figsize\"] = (12,8)\n",
    "plt.rcParams.update({\"font.size\" : 14})"
   ]
  },
  {
   "cell_type": "code",
   "execution_count": null,
   "metadata": {},
   "outputs": [],
   "source": [
    "def gamblers_ruin():\n",
    "    gambling_money = 50\n",
    "    gambling_goal = 100\n",
    "    gambling_simulations = []\n",
    "    \n",
    "    while gambling_money in range(1,gambling_goal):\n",
    "        bet_size = 1\n",
    "        w_or_l = random.randrange(-1,2,2)\n",
    "        gambling_money+= bet_size * w_or_l\n",
    "        gambling_simulations.append(gambling_money)\n",
    "    return gambling_simulations"
   ]
  },
  {
   "cell_type": "code",
   "execution_count": null,
   "metadata": {},
   "outputs": [
    {
     "data": {
      "text/plain": [
       "Text(0.5, 1.0, 'Gambling Simulation')"
      ]
     },
     "execution_count": 6,
     "metadata": {},
     "output_type": "execute_result"
    },
    {
     "data": {
      "image/png": "[encoded data removed]",
      "text/plain": [
       "<Figure size 432x288 with 1 Axes>"
      ]
     },
     "metadata": {
      "needs_background": "light"
     },
     "output_type": "display_data"
    }
   ],
   "source": [
    "plt.plot(gamblers_ruin())\n",
    "plt.yticks(np.arange(-20,120,10))\n",
    "plt.axhline(y=0,color=\"red\",linestyle =\"-\")\n",
    "plt.axhline(y=100,color=\"black\",linestyle =\"-\")\n",
    "plt.xlabel(\"Numer of bets\")\n",
    "plt.ylabel(\"Winnings\")\n",
    "plt.title(\"Gambling Simulation\")"
   ]
  },
  {
   "cell_type": "code",
   "execution_count": null,
   "metadata": {},
   "outputs": [],
   "source": [
    "def prob_of_ruin(gambling_goal, initial_gambling_money):\n",
    "    return (gambling_goal - initial_gambling_money)/gambling_goal\n",
    "\n"
   ]
  },
  {
   "cell_type": "code",
   "execution_count": null,
   "metadata": {},
   "outputs": [
    {
     "data": {
      "text/plain": [
       "0.5"
      ]
     },
     "execution_count": 8,
     "metadata": {},
     "output_type": "execute_result"
    }
   ],
   "source": [
    "prob_of_ruin(100,50)"
   ]
  },
  {
   "cell_type": "code",
   "execution_count": null,
   "metadata": {},
   "outputs": [
    {
     "data": {
      "text/plain": [
       "49.8"
      ]
     },
     "execution_count": 9,
     "metadata": {},
     "output_type": "execute_result"
    }
   ],
   "source": [
    "sim_list = []\n",
    "while len(sim_list) < 500:\n",
    "    sim_list.append(gamblers_ruin()[-1])\n",
    "np.mean(sim_list)"
   ]
  },
  {
   "cell_type": "markdown",
   "metadata": {},
   "source": [
    "**Markov Chain Simulations**"
   ]
  },
  {
   "cell_type": "code",
   "execution_count": 31,
   "metadata": {},
   "outputs": [
    {
     "name": "stdout",
     "output_type": "stream",
     "text": [
      "        NYC  Paris  Cairo  Seoul\n",
      "NYC    0.25   0.25   0.25   0.25\n",
      "Paris  0.00   0.25   0.25   0.50\n",
      "Cairo  0.75   0.00   0.25   0.00\n",
      "Seoul  1.00   0.00   0.00   0.00\n"
     ]
    },
    {
     "data": {
      "image/png": "[encoded data removed]",
      "text/plain": [
       "<Figure size 576x576 with 1 Axes>"
      ]
     },
     "metadata": {
      "needs_background": "light"
     },
     "output_type": "display_data"
    }
   ],
   "source": [
    "example = {\n",
    "    \"NYC\":    [.25,0,.75,1],\n",
    "    \"Paris\" : [.25,.25,0,0],\n",
    "    \"Cairo\" : [.25,.25,.25,0],\n",
    "    \"Seoul\" : [.25,.50,0,0]\n",
    "}\n",
    "# [\"NYC\",\"Paris\",\"Cairo\",\"Seoul\"]\n",
    "markov_chain = pd.DataFrame(data=example,index = example.keys())\n",
    "print(markov_chain)\n",
    "# markov_chain.loc[\"NYC\"]\n",
    "\n",
    "markov_chain_image  =  MarkovChain(markov_chain.to_numpy(), markov_chain.columns.tolist() )\n",
    "markov_chain_image.draw(\"./markov_chain.png\")\n"
   ]
  },
  {
   "cell_type": "code",
   "execution_count": null,
   "metadata": {},
   "outputs": [],
   "source": [
    "\n",
    "# from markovchain import MarkovChain\n",
    "# markov_chain_diagram = MarkovChain(example,[\"NYC\",\"Paris\",\"Cairo\",\"Seoul\"])\n",
    "# markov_chain_diagram.draw()\n",
    "\n"
   ]
  },
  {
   "cell_type": "code",
   "execution_count": null,
   "metadata": {},
   "outputs": [
    {
     "data": {
      "text/plain": [
       "['NYC',\n",
       " 'NYC',\n",
       " 'Paris',\n",
       " 'Seoul',\n",
       " 'NYC',\n",
       " 'Seoul',\n",
       " 'NYC',\n",
       " 'Paris',\n",
       " 'Seoul',\n",
       " 'NYC',\n",
       " 'Seoul',\n",
       " 'NYC',\n",
       " 'NYC',\n",
       " 'Seoul',\n",
       " 'NYC',\n",
       " 'Paris',\n",
       " 'Seoul',\n",
       " 'NYC',\n",
       " 'Cairo',\n",
       " 'NYC',\n",
       " 'Paris',\n",
       " 'Seoul',\n",
       " 'NYC',\n",
       " 'Paris',\n",
       " 'Seoul']"
      ]
     },
     "execution_count": 12,
     "metadata": {},
     "output_type": "execute_result"
    }
   ],
   "source": [
    "travel_sim = []\n",
    "travel_sim.append(markov_chain.iloc[0].index[0])\n",
    "city = np.random.choice(markov_chain.iloc[0].index,p=markov_chain.iloc[0])\n",
    "travel_sim.append(city)\n",
    "\n",
    "while len(travel_sim) < 25:\n",
    "    city = np.random.choice(markov_chain.iloc[markov_chain.index.get_loc(city)].index,p=markov_chain.iloc[markov_chain.index.get_loc(city)])\n",
    "    travel_sim.append(city)\n",
    "\n",
    "travel_sim"
   ]
  },
  {
   "cell_type": "code",
   "execution_count": null,
   "metadata": {},
   "outputs": [
    {
     "data": {
      "text/plain": [
       "array([[0.25, 0.25, 0.25, 0.25],\n",
       "       [0.  , 0.25, 0.25, 0.5 ],\n",
       "       [0.75, 0.  , 0.25, 0.  ],\n",
       "       [1.  , 0.  , 0.  , 0.  ]])"
      ]
     },
     "execution_count": 13,
     "metadata": {},
     "output_type": "execute_result"
    }
   ],
   "source": [
    "markov_chain.to_numpy()"
   ]
  },
  {
   "cell_type": "markdown",
   "metadata": {},
   "source": [
    "**n Step Transition Matrix**\\n\n",
    ",in this case it n = 2"
   ]
  },
  {
   "cell_type": "code",
   "execution_count": null,
   "metadata": {},
   "outputs": [
    {
     "data": {
      "text/plain": [
       "array([[0.5   , 0.125 , 0.1875, 0.1875],\n",
       "       [0.6875, 0.0625, 0.125 , 0.125 ],\n",
       "       [0.375 , 0.1875, 0.25  , 0.1875],\n",
       "       [0.25  , 0.25  , 0.25  , 0.25  ]])"
      ]
     },
     "execution_count": 14,
     "metadata": {},
     "output_type": "execute_result"
    }
   ],
   "source": [
    "np.dot(markov_chain.to_numpy(),markov_chain.to_numpy())"
   ]
  },
  {
   "cell_type": "code",
   "execution_count": null,
   "metadata": {},
   "outputs": [],
   "source": [
    "def matrix_power(matrix,power):\n",
    "    if power ==0:\n",
    "        return np.identity(len(matrix))\n",
    "    elif power ==1:\n",
    "        return matrix\n",
    "    else:\n",
    "        return np.dot(matrix,matrix_power(matrix,power-1))\n",
    "\n"
   ]
  },
  {
   "cell_type": "code",
   "execution_count": null,
   "metadata": {},
   "outputs": [
    {
     "data": {
      "text/plain": [
       "array([[0.453125, 0.15625 , 0.203125, 0.1875  ],\n",
       "       [0.390625, 0.1875  , 0.21875 , 0.203125],\n",
       "       [0.46875 , 0.140625, 0.203125, 0.1875  ],\n",
       "       [0.5     , 0.125   , 0.1875  , 0.1875  ]])"
      ]
     },
     "execution_count": 16,
     "metadata": {},
     "output_type": "execute_result"
    }
   ],
   "source": [
    "matrix_power(markov_chain,3)"
   ]
  },
  {
   "cell_type": "code",
   "execution_count": null,
   "metadata": {},
   "outputs": [
    {
     "data": {
      "text/plain": [
       "array([1., 1., 1., 1.])"
      ]
     },
     "execution_count": 17,
     "metadata": {},
     "output_type": "execute_result"
    }
   ],
   "source": [
    "matrix_power(markov_chain.to_numpy(),3).sum(axis=1)"
   ]
  },
  {
   "cell_type": "markdown",
   "metadata": {},
   "source": [
    "**Steady State Matrix**"
   ]
  },
  {
   "cell_type": "code",
   "execution_count": null,
   "metadata": {},
   "outputs": [
    {
     "name": "stdout",
     "output_type": "stream",
     "text": [
      "n step Transition Matrix at the nth power 1\n",
      " [[0.25 0.25 0.25 0.25]\n",
      " [0.   0.25 0.25 0.5 ]\n",
      " [0.75 0.   0.25 0.  ]\n",
      " [1.   0.   0.   0.  ]] \n",
      "\n",
      "n step Transition Matrix at the nth power 2\n",
      " [[0.5    0.125  0.1875 0.1875]\n",
      " [0.6875 0.0625 0.125  0.125 ]\n",
      " [0.375  0.1875 0.25   0.1875]\n",
      " [0.25   0.25   0.25   0.25  ]] \n",
      "\n",
      "n step Transition Matrix at the nth power 3\n",
      " [[0.453125 0.15625  0.203125 0.1875  ]\n",
      " [0.390625 0.1875   0.21875  0.203125]\n",
      " [0.46875  0.140625 0.203125 0.1875  ]\n",
      " [0.5      0.125    0.1875   0.1875  ]] \n",
      "\n",
      "n step Transition Matrix at the nth power 4\n",
      " [[0.453125   0.15234375 0.203125   0.19140625]\n",
      " [0.46484375 0.14453125 0.19921875 0.19140625]\n",
      " [0.45703125 0.15234375 0.203125   0.1875    ]\n",
      " [0.453125   0.15625    0.203125   0.1875    ]] \n",
      "\n",
      "n step Transition Matrix at the nth power 5\n",
      " [[0.45703125 0.15136719 0.20214844 0.18945312]\n",
      " [0.45703125 0.15234375 0.20214844 0.18847656]\n",
      " [0.45410156 0.15234375 0.203125   0.19042969]\n",
      " [0.453125   0.15234375 0.203125   0.19140625]] \n",
      "\n",
      "n step Transition Matrix at the nth power 6\n",
      " [[0.45532227 0.15209961 0.20263672 0.18994141]\n",
      " [0.4543457  0.15234375 0.20288086 0.19042969]\n",
      " [0.45629883 0.15161133 0.20239258 0.18969727]\n",
      " [0.45703125 0.15136719 0.20214844 0.18945312]] \n",
      "\n",
      "n step Transition Matrix at the nth power 7\n",
      " [[0.45574951 0.15185547 0.20251465 0.18988037]\n",
      " [0.45617676 0.15167236 0.20239258 0.1897583 ]\n",
      " [0.45556641 0.15197754 0.20257568 0.18988037]\n",
      " [0.45532227 0.15209961 0.20263672 0.18994141]] \n",
      "\n",
      "n step Transition Matrix at the nth power 8\n",
      " [[0.45570374 0.15190125 0.20252991 0.18986511]\n",
      " [0.45559692 0.15196228 0.20256042 0.18988037]\n",
      " [0.45570374 0.15188599 0.20252991 0.18988037]\n",
      " [0.45574951 0.15185547 0.20251465 0.18988037]] \n",
      "\n",
      "n step Transition Matrix at the nth power 9\n",
      " [[0.45568848 0.15190125 0.20253372 0.18987656]\n",
      " [0.45569992 0.1518898  0.20252991 0.18988037]\n",
      " [0.45570374 0.15189743 0.20252991 0.18986893]\n",
      " [0.45570374 0.15190125 0.20252991 0.18986511]] \n",
      "\n"
     ]
    }
   ],
   "source": [
    "for i in range(1,10,1):\n",
    "    print(f'n step Transition Matrix at the nth power {i}\\n', matrix_power(markov_chain.to_numpy(),i),'\\n')"
   ]
  },
  {
   "cell_type": "markdown",
   "metadata": {},
   "source": [
    "ending up in the state where it started"
   ]
  },
  {
   "cell_type": "code",
   "execution_count": null,
   "metadata": {},
   "outputs": [
    {
     "data": {
      "text/plain": [
       "array([0.5   , 0.125 , 0.1875, 0.1875])"
      ]
     },
     "execution_count": 19,
     "metadata": {},
     "output_type": "execute_result"
    }
   ],
   "source": [
    "initial_dist = np.asarray([1,0,0,0,])\n",
    "mc_p2 = matrix_power(markov_chain.to_numpy(),2)\n",
    "\n",
    "np.dot(initial_dist,mc_p2)\n"
   ]
  },
  {
   "cell_type": "markdown",
   "metadata": {},
   "source": []
  },
  {
   "cell_type": "code",
   "execution_count": null,
   "metadata": {},
   "outputs": [],
   "source": []
  }
 ],
 "metadata": {
  "kernelspec": {
   "display_name": "Python 3.9.10 64-bit",
   "language": "python",
   "name": "python3"
  },
  "language_info": {
   "codemirror_mode": {
    "name": "ipython",
    "version": 3
   },
   "file_extension": ".py",
   "mimetype": "text/x-python",
   "name": "python",
   "nbconvert_exporter": "python",
   "pygments_lexer": "ipython3",
   "version": "3.9.10"
  },
  "orig_nbformat": 4,
  "vscode": {
   "interpreter": {
    "hash": "fcd20819cde6081e941e6ff139b2db3b4be0c054d1521a0c925cef97bbcb20c2"
   }
  }
 },
 "nbformat": 4,
 "nbformat_minor": 2
}
